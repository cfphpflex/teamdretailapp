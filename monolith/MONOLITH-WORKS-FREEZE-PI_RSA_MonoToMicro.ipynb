{
  "nbformat": 4,
  "nbformat_minor": 0,
  "metadata": {
    "colab": {
      "name": "Copy of PI RSA MonoToMicro.ipynb",
      "provenance": [],
      "collapsed_sections": [],
      "history_visible": true
    },
    "kernelspec": {
      "name": "python3",
      "display_name": "Python 3"
    }
  },
  "cells": [
    {
      "cell_type": "markdown",
      "metadata": {
        "id": "-Ij_gygBEymw",
        "colab_type": "text"
      },
      "source": [
        "# A : Setup"
      ]
    },
    {
      "cell_type": "markdown",
      "metadata": {
        "id": "SNLwwh5WC0Ph",
        "colab_type": "text"
      },
      "source": [
        "##A.1 Authentication and Checking User Details."
      ]
    },
    {
      "cell_type": "code",
      "metadata": {
        "id": "JPczOft2qqXx",
        "colab_type": "code",
        "colab": {}
      },
      "source": [
        "# Authenticate to GCS.\n",
        "from google.colab import auth\n",
        "auth.authenticate_user()"
      ],
      "execution_count": 2,
      "outputs": []
    },
    {
      "cell_type": "code",
      "metadata": {
        "id": "_L9dLwNWn0ua",
        "colab_type": "code",
        "colab": {
          "base_uri": "https://localhost:8080/",
          "height": 34
        },
        "outputId": "351e977b-b39f-4b47-9468-5e1799f963de"
      },
      "source": [
        "# Getting the email account that was used to login to this session\n",
        "import requests\n",
        "gcloud_token = !gcloud auth print-access-token\n",
        "gcloud_tokeninfo = requests.get('https://www.googleapis.com/oauth2/v3/tokeninfo?access_token=' + gcloud_token[0]).json()\n",
        "print(gcloud_tokeninfo['email'])"
      ],
      "execution_count": 3,
      "outputs": [
        {
          "output_type": "stream",
          "text": [
            "cfemilioc@gmail.com\n"
          ],
          "name": "stdout"
        }
      ]
    },
    {
      "cell_type": "markdown",
      "metadata": {
        "id": "64C8rahCDpCo",
        "colab_type": "text"
      },
      "source": [
        "##A.2 Setup the Project Parameters."
      ]
    },
    {
      "cell_type": "code",
      "metadata": {
        "colab_type": "code",
        "id": "58uzs3Uf-NPu",
        "colab": {}
      },
      "source": [
        "# Change the following if you are not in the rsa-dev-10 project\n",
        "# These parameters are generated outside of this notebook\n",
        "# Project: rsa-mla-prod\n",
        "\n",
        "# Project: rsa-dev-10\n",
        "project_id = 'rsa-mono-site5'\n",
        "bucket_id = 'rsa-mono-site5'\n",
        "# ip_addr_name = 'rsa-static-west'\n",
        "# project_id = 'mla-metric'\n",
        "# bucket_id = 'mla-metric'\n",
        "ip_addr_name = 'rsa-prod'\n",
        "\n",
        "# These are parameters you setup for this deployment\n",
        "region = 'us-central1'\n",
        "zone = 'us-central1-f'\n"
      ],
      "execution_count": 5,
      "outputs": []
    },
    {
      "cell_type": "code",
      "metadata": {
        "id": "gvxv5ygQFbY1",
        "colab_type": "code",
        "colab": {
          "base_uri": "https://localhost:8080/",
          "height": 34
        },
        "outputId": "85cbf950-4d90-451a-a436-25f7889c3ccd"
      },
      "source": [
        "import os\n",
        "os.environ['DEVSHELL_PROJECT_ID'] = project_id\n",
        "os.environ['GOOGLE_CLOUD_PROJECT'] = project_id\n",
        "\n",
        "!gcloud config set project {project_id} -q"
      ],
      "execution_count": 6,
      "outputs": [
        {
          "output_type": "stream",
          "text": [
            "Updated property [core/project].\n"
          ],
          "name": "stdout"
        }
      ]
    },
    {
      "cell_type": "code",
      "metadata": {
        "colab_type": "code",
        "id": "uePZlHbr_YdU",
        "colab": {
          "base_uri": "https://localhost:8080/",
          "height": 51
        },
        "outputId": "f5cfea04-972c-4275-eae3-6911e1d850fa"
      },
      "source": [
        "!gcloud config set compute/zone {zone}\n",
        "!gcloud config set compute/region {region}"
      ],
      "execution_count": 7,
      "outputs": [
        {
          "output_type": "stream",
          "text": [
            "Updated property [compute/zone].\n",
            "Updated property [compute/region].\n"
          ],
          "name": "stdout"
        }
      ]
    },
    {
      "cell_type": "markdown",
      "metadata": {
        "id": "QQyinkfxdymi",
        "colab_type": "text"
      },
      "source": [
        "### Install Kubectl"
      ]
    },
    {
      "cell_type": "code",
      "metadata": {
        "id": "DNFZOhW2U1x-",
        "colab_type": "code",
        "colab": {
          "base_uri": "https://localhost:8080/",
          "height": 88
        },
        "outputId": "a2430e26-ee32-4d17-811e-dbf7348ce3ee"
      },
      "source": [
        "!curl -LO https://storage.googleapis.com/kubernetes-release/release/`curl -s \\\n",
        " https://storage.googleapis.com/kubernetes-release/release/stable.txt`/bin/linux/amd64/kubectl"
      ],
      "execution_count": 8,
      "outputs": [
        {
          "output_type": "stream",
          "text": [
            "  % Total    % Received % Xferd  Average Speed   Time    Time     Time  Current\n",
            "                                 Dload  Upload   Total   Spent    Left  Speed\n",
            "100 41.9M  100 41.9M    0     0   144M      0 --:--:-- --:--:-- --:--:--  144M\n"
          ],
          "name": "stdout"
        }
      ]
    },
    {
      "cell_type": "code",
      "metadata": {
        "id": "PuVTL9sEU8Ew",
        "colab_type": "code",
        "colab": {
          "base_uri": "https://localhost:8080/",
          "height": 54
        },
        "outputId": "8a01763a-831d-4ad7-ff68-2c62cb08c579"
      },
      "source": [
        "!chmod +x kubectl\n",
        "!sudo mv ./kubectl /usr/local/bin/kubectl\n",
        "!kubectl version --client"
      ],
      "execution_count": 9,
      "outputs": [
        {
          "output_type": "stream",
          "text": [
            "Client Version: version.Info{Major:\"1\", Minor:\"18\", GitVersion:\"v1.18.6\", GitCommit:\"dff82dc0de47299ab66c83c626e08b245ab19037\", GitTreeState:\"clean\", BuildDate:\"2020-07-15T16:58:53Z\", GoVersion:\"go1.13.9\", Compiler:\"gc\", Platform:\"linux/amd64\"}\n"
          ],
          "name": "stdout"
        }
      ]
    },
    {
      "cell_type": "markdown",
      "metadata": {
        "id": "WELJ0O3K8N2Q",
        "colab_type": "text"
      },
      "source": [
        "##A.3 Enabling APIs"
      ]
    },
    {
      "cell_type": "code",
      "metadata": {
        "id": "C1Ot3t91FKlI",
        "colab_type": "code",
        "colab": {}
      },
      "source": [
        "!gcloud services enable container.googleapis.com --async\n",
        "!gcloud services enable containerregistry.googleapis.com --async\n",
        "!gcloud services enable compute.googleapis.com --async\n",
        "!gcloud services enable storage-api.googleapis.com --async\n",
        "!gcloud services enable storage-component.googleapis.com --async                        \n",
        "!gcloud services enable servicemanagement.googleapis.com --async\n",
        "!gcloud services enable iam.googleapis.com --async\n",
        "!gcloud services enable cloudbuild.googleapis.com --async"
      ],
      "execution_count": 10,
      "outputs": []
    },
    {
      "cell_type": "markdown",
      "metadata": {
        "id": "5EI2Akt4x_YT",
        "colab_type": "text"
      },
      "source": [
        "# B : Git Repository Pull"
      ]
    },
    {
      "cell_type": "code",
      "metadata": {
        "id": "Hh0g2MmXYPAc",
        "colab_type": "code",
        "colab": {
          "base_uri": "https://localhost:8080/",
          "height": 289
        },
        "outputId": "d2544884-a159-49cd-ba2b-9196ceafe81a"
      },
      "source": [
        "%cd ~\n",
        "!rm -rf ~/RSA-Mono-Site\n",
        "!git clone https://github.com/cfphpflex/RSA-Mono-Site.git\n",
        "%cd ~/RSA-Mono-Site\n",
        "!./setup.sh"
      ],
      "execution_count": 32,
      "outputs": [
        {
          "output_type": "stream",
          "text": [
            "/root\n",
            "Cloning into 'RSA-Mono-Site'...\n",
            "remote: Enumerating objects: 194, done.\u001b[K\n",
            "remote: Counting objects: 100% (194/194), done.\u001b[K\n",
            "remote: Compressing objects: 100% (120/120), done.\u001b[K\n",
            "remote: Total 194 (delta 82), reused 161 (delta 52), pack-reused 0\u001b[K\n",
            "Receiving objects: 100% (194/194), 1.26 MiB | 17.63 MiB/s, done.\n",
            "Resolving deltas: 100% (82/82), done.\n",
            "/root/RSA-Mono-Site\n",
            "Checking for required npm version...Completed.\n",
            "Installing monolith dependencies...Completed.\n",
            "Installing microservies dependencies...Completed.\n",
            "Installing React app dependencies...Completed.\n",
            "Building React app and placing into sub projects...Completed.\n",
            "\n",
            "Script completed successfully!\n"
          ],
          "name": "stdout"
        }
      ]
    },
    {
      "cell_type": "code",
      "metadata": {
        "id": "xDcUD81SZtrh",
        "colab_type": "code",
        "colab": {
          "base_uri": "https://localhost:8080/",
          "height": 275
        },
        "outputId": "6a116348-8d8d-4f3f-d43c-46d97790747d"
      },
      "source": [
        "!python main.py\n",
        "! nano main.py\n"
      ],
      "execution_count": 33,
      "outputs": [
        {
          "output_type": "stream",
          "text": [
            " * Serving Flask app \"main\" (lazy loading)\n",
            " * Environment: production\n",
            "\u001b[31m   WARNING: This is a development server. Do not use it in a production deployment.\u001b[0m\n",
            "\u001b[2m   Use a production WSGI server instead.\u001b[0m\n",
            " * Debug mode: on\n",
            "Traceback (most recent call last):\n",
            "  File \"main.py\", line 29, in <module>\n",
            "    app.run(host='127.0.0.1', port=8080, debug=True)\n",
            "  File \"/usr/local/lib/python3.6/dist-packages/flask/app.py\", line 990, in run\n",
            "    run_simple(host, port, self, **options)\n",
            "  File \"/usr/local/lib/python3.6/dist-packages/werkzeug/serving.py\", line 1030, in run_simple\n",
            "    s.bind(server_address)\n",
            "OSError: [Errno 98] Address already in use\n",
            "/bin/bash: nano: command not found\n"
          ],
          "name": "stdout"
        }
      ]
    },
    {
      "cell_type": "code",
      "metadata": {
        "id": "SKNevINVEIlI",
        "colab_type": "code",
        "colab": {
          "base_uri": "https://localhost:8080/",
          "height": 289
        },
        "outputId": "98f49c62-c7e5-42ec-ccbd-aabd2ce7d285"
      },
      "source": [
        "!ls -lrt"
      ],
      "execution_count": 28,
      "outputs": [
        {
          "output_type": "stream",
          "text": [
            "total 60\n",
            "-rw-r--r-- 1 root root 3321 Jul 30 01:22 README.md\n",
            "drwxr-xr-x 6 root root 4096 Jul 30 01:22 RSA-Core\n",
            "-rwxr-xr-x 1 root root  768 Jul 30 01:22 main.py\n",
            "-rwxr-xr-x 1 root root    9 Jul 30 01:22 index.html\n",
            "-rwxr-xr-x 1 root root 2715 Jul 30 01:22 firestore.py\n",
            "-rwxr-xr-x 1 root root 1336 Jul 30 01:22 deploy-monolith.sh\n",
            "-rwxr-xr-x 1 root root 1049 Jul 30 01:22 app.yaml\n",
            "-rwxr-xr-x 1 root root 2814 Jul 30 01:22 storage.py\n",
            "-rwxr-xr-x 1 root root 1312 Jul 30 01:22 setup.sh\n",
            "-rwxr-xr-x 1 root root  196 Jul 30 01:22 requirements.txt\n",
            "drwxr-xr-x 3 root root 4096 Jul 30 01:23 microservices\n",
            "drwxr-xr-x 2 root root 4096 Jul 30 01:23 logs\n",
            "drwxr-xr-x 7 root root 4096 Jul 30 01:23 react-app\n",
            "drwxr-xr-x 2 root root 4096 Jul 30 01:37 __pycache__\n",
            "drwxr-xr-x 7 root root 4096 Jul 30 01:48 monolith\n"
          ],
          "name": "stdout"
        }
      ]
    },
    {
      "cell_type": "code",
      "metadata": {
        "id": "qyzVi2tq0BFV",
        "colab_type": "code",
        "colab": {
          "base_uri": "https://localhost:8080/",
          "height": 139
        },
        "outputId": "4224f56c-eac6-4629-84bf-a54e94e70fa6"
      },
      "source": [
        "!gcloud container clusters create fancy-cluster --num-nodes 3"
      ],
      "execution_count": 36,
      "outputs": [
        {
          "output_type": "stream",
          "text": [
            "\u001b[1;33mWARNING:\u001b[0m Currently VPC-native is not the default mode during cluster creation. In the future, this will become the default mode and can be disabled using `--no-enable-ip-alias` flag. Use `--[no-]enable-ip-alias` flag to suppress this warning.\n",
            "\u001b[1;33mWARNING:\u001b[0m Newly created clusters and node-pools will have node auto-upgrade enabled by default. This can be disabled using the `--no-enable-autoupgrade` flag.\n",
            "\u001b[1;33mWARNING:\u001b[0m Starting with version 1.18, clusters will have shielded GKE nodes by default.\n",
            "\u001b[1;33mWARNING:\u001b[0m Your Pod address range (`--cluster-ipv4-cidr`) can accommodate at most 1008 node(s). \n",
            "This will enable the autorepair feature for nodes. Please see https://cloud.google.com/kubernetes-engine/docs/node-auto-repair for more information on node autorepairs.\n",
            "\u001b[1;31mERROR:\u001b[0m (gcloud.container.clusters.create) ResponseError: code=409, message=Already exists: projects/rsa-mono-site5/zones/us-central1-f/clusters/fancy-cluster.\n"
          ],
          "name": "stdout"
        }
      ]
    },
    {
      "cell_type": "code",
      "metadata": {
        "id": "Z9aZKNhAVfvf",
        "colab_type": "code",
        "colab": {
          "base_uri": "https://localhost:8080/",
          "height": 34
        },
        "outputId": "3c0b7d17-7820-48e0-ad08-2f4ca289406b"
      },
      "source": [
        "!gcloud config set container/use_application_default_credentials true"
      ],
      "execution_count": 39,
      "outputs": [
        {
          "output_type": "stream",
          "text": [
            "Updated property [container/use_application_default_credentials].\n"
          ],
          "name": "stdout"
        }
      ]
    },
    {
      "cell_type": "code",
      "metadata": {
        "id": "sHCGVnovdy8J",
        "colab_type": "code",
        "colab": {
          "base_uri": "https://localhost:8080/",
          "height": 105
        },
        "outputId": "7d83c188-37be-4f99-f812-0208f8a09d20"
      },
      "source": [
        "!gcloud compute instances list"
      ],
      "execution_count": 44,
      "outputs": [
        {
          "output_type": "stream",
          "text": [
            "NAME                                          ZONE           MACHINE_TYPE   PREEMPTIBLE  INTERNAL_IP  EXTERNAL_IP    STATUS\n",
            "gke-fancy-cluster-default-pool-919ccec6-38xx  us-central1-f  n1-standard-1               10.128.0.7   34.67.206.206  RUNNING\n",
            "gke-fancy-cluster-default-pool-919ccec6-kwwj  us-central1-f  n1-standard-1               10.128.0.6   34.67.199.234  RUNNING\n",
            "gke-fancy-cluster-default-pool-919ccec6-qg7h  us-central1-f  n1-standard-1               10.128.0.5   35.184.32.75   RUNNING\n"
          ],
          "name": "stdout"
        }
      ]
    },
    {
      "cell_type": "markdown",
      "metadata": {
        "id": "0aHkPK-DVKG6",
        "colab_type": "text"
      },
      "source": [
        "Get Credentials"
      ]
    },
    {
      "cell_type": "code",
      "metadata": {
        "id": "RoeGLD4IYOCL",
        "colab_type": "code",
        "colab": {
          "base_uri": "https://localhost:8080/",
          "height": 207
        },
        "outputId": "7069359f-193c-4291-b557-02d5317d96b4"
      },
      "source": [
        "!gcloud config set container/use_application_default_credentials true\n",
        "!gcloud container clusters get-credentials fancy-cluster\n",
        "!kubectl cluster-info"
      ],
      "execution_count": 41,
      "outputs": [
        {
          "output_type": "stream",
          "text": [
            "Updated property [container/use_application_default_credentials].\n",
            "Fetching cluster endpoint and auth data.\n",
            "kubeconfig entry generated for fancy-cluster.\n",
            "\u001b[0;32mKubernetes master\u001b[0m is running at \u001b[0;33mhttps://35.193.46.45\u001b[0m\n",
            "\u001b[0;32mGLBCDefaultBackend\u001b[0m is running at \u001b[0;33mhttps://35.193.46.45/api/v1/namespaces/kube-system/services/default-http-backend:http/proxy\u001b[0m\n",
            "\u001b[0;32mHeapster\u001b[0m is running at \u001b[0;33mhttps://35.193.46.45/api/v1/namespaces/kube-system/services/heapster/proxy\u001b[0m\n",
            "\u001b[0;32mKubeDNS\u001b[0m is running at \u001b[0;33mhttps://35.193.46.45/api/v1/namespaces/kube-system/services/kube-dns:dns/proxy\u001b[0m\n",
            "\u001b[0;32mMetrics-server\u001b[0m is running at \u001b[0;33mhttps://35.193.46.45/api/v1/namespaces/kube-system/services/https:metrics-server:/proxy\u001b[0m\n",
            "\n",
            "To further debug and diagnose cluster problems, use 'kubectl cluster-info dump'.\n"
          ],
          "name": "stdout"
        }
      ]
    },
    {
      "cell_type": "code",
      "metadata": {
        "id": "5r0OC2cvXDxc",
        "colab_type": "code",
        "colab": {
          "base_uri": "https://localhost:8080/",
          "height": 156
        },
        "outputId": "04278ec4-e47a-4f36-c743-f5df11dbcb6c"
      },
      "source": [
        "!pwd\n",
        "!python main.py\n",
        "!./deploy-monolith.sh\n",
        "\n",
        "\n",
        "\n"
      ],
      "execution_count": 43,
      "outputs": [
        {
          "output_type": "stream",
          "text": [
            "Enabling Cloud Build APIs...Completed.\n",
            "Building Monolith Container...Completed.\n",
            "Deploying Monolith To GKE Cluster...Completed.\n",
            "\n",
            "Please run the following command to find the IP address for the monolith service:  kubectl get service monolith\n",
            "\n",
            "Deployment Complete\n"
          ],
          "name": "stdout"
        }
      ]
    },
    {
      "cell_type": "code",
      "metadata": {
        "id": "JIivH0nhZc7J",
        "colab_type": "code",
        "colab": {
          "base_uri": "https://localhost:8080/",
          "height": 156
        },
        "outputId": "38c17311-3e53-46c2-ebc6-82afff0c12ed"
      },
      "source": [
        "!gcloud compute instances list\n",
        "!kubectl get service"
      ],
      "execution_count": 48,
      "outputs": [
        {
          "output_type": "stream",
          "text": [
            "NAME                                          ZONE           MACHINE_TYPE   PREEMPTIBLE  INTERNAL_IP  EXTERNAL_IP    STATUS\n",
            "gke-fancy-cluster-default-pool-919ccec6-38xx  us-central1-f  n1-standard-1               10.128.0.7   34.67.206.206  RUNNING\n",
            "gke-fancy-cluster-default-pool-919ccec6-kwwj  us-central1-f  n1-standard-1               10.128.0.6   34.67.199.234  RUNNING\n",
            "gke-fancy-cluster-default-pool-919ccec6-qg7h  us-central1-f  n1-standard-1               10.128.0.5   35.184.32.75   RUNNING\n",
            "NAME         TYPE           CLUSTER-IP      EXTERNAL-IP     PORT(S)        AGE\n",
            "kubernetes   ClusterIP      10.19.240.1     <none>          443/TCP        46m\n",
            "monolith     LoadBalancer   10.19.241.126   34.68.201.208   80:30302/TCP   10m\n"
          ],
          "name": "stdout"
        }
      ]
    },
    {
      "cell_type": "markdown",
      "metadata": {
        "id": "uSlvZw_iy-fe",
        "colab_type": "text"
      },
      "source": [
        "# C: Build Container Image"
      ]
    },
    {
      "cell_type": "markdown",
      "metadata": {
        "id": "RnVflo-raWBZ",
        "colab_type": "text"
      },
      "source": [
        "##Build Order Container Image and Deploy It"
      ]
    },
    {
      "cell_type": "code",
      "metadata": {
        "id": "TrDeLfYhsQad",
        "colab_type": "code",
        "colab": {}
      },
      "source": [
        "%cd ~/monolith-to-microservices/microservices/src/orders\n",
        "!gcloud builds submit --tag gcr.io/${GOOGLE_CLOUD_PROJECT}/orders:1.0.0 ."
      ],
      "execution_count": null,
      "outputs": []
    },
    {
      "cell_type": "code",
      "metadata": {
        "id": "2NyYttxltGCF",
        "colab_type": "code",
        "colab": {}
      },
      "source": [
        "!kubectl create deployment orders --image=gcr.io/${GOOGLE_CLOUD_PROJECT}/orders:1.0.0"
      ],
      "execution_count": null,
      "outputs": []
    },
    {
      "cell_type": "code",
      "metadata": {
        "id": "2Ilj1JERcpCz",
        "colab_type": "code",
        "colab": {}
      },
      "source": [
        "!kubectl expose deployment orders --type=LoadBalancer --port 80 --target-port 8081"
      ],
      "execution_count": null,
      "outputs": []
    },
    {
      "cell_type": "markdown",
      "metadata": {
        "id": "-C9DOaq_dOtu",
        "colab_type": "text"
      },
      "source": [
        "##Build Product Container Image and Deploy It"
      ]
    },
    {
      "cell_type": "code",
      "metadata": {
        "id": "_NWqbdfYnHsw",
        "colab_type": "code",
        "colab": {}
      },
      "source": [
        "%cd ~/monolith-to-microservices/microservices/src/products\n",
        "!gcloud builds submit --tag gcr.io/${GOOGLE_CLOUD_PROJECT}/products:1.0.0 ."
      ],
      "execution_count": null,
      "outputs": []
    },
    {
      "cell_type": "code",
      "metadata": {
        "id": "6e_0mU4da4Ma",
        "colab_type": "code",
        "colab": {}
      },
      "source": [
        "!kubectl create deployment products --image=gcr.io/${GOOGLE_CLOUD_PROJECT}/products:1.0.0"
      ],
      "execution_count": null,
      "outputs": []
    },
    {
      "cell_type": "code",
      "metadata": {
        "id": "JOE0DybcdlxB",
        "colab_type": "code",
        "colab": {}
      },
      "source": [
        "!kubectl expose deployment products --type=LoadBalancer --port 80 --target-port 8082"
      ],
      "execution_count": null,
      "outputs": []
    },
    {
      "cell_type": "markdown",
      "metadata": {
        "id": "dXfnHzU2hBWk",
        "colab_type": "text"
      },
      "source": [
        "## Build Frontend Container and Deploy It"
      ]
    },
    {
      "cell_type": "code",
      "metadata": {
        "id": "oKwj354jdzeo",
        "colab_type": "code",
        "colab": {
          "base_uri": "https://localhost:8080/",
          "height": 88
        },
        "outputId": "bb1db252-0474-434f-bc00-bd6df8c3b090"
      },
      "source": [
        "!kubectl get service"
      ],
      "execution_count": 47,
      "outputs": [
        {
          "output_type": "stream",
          "text": [
            "NAME         TYPE           CLUSTER-IP      EXTERNAL-IP     PORT(S)        AGE\n",
            "kubernetes   ClusterIP      10.19.240.1     <none>          443/TCP        44m\n",
            "monolith     LoadBalancer   10.19.241.126   34.68.201.208   80:30302/TCP   8m56s\n"
          ],
          "name": "stdout"
        }
      ]
    },
    {
      "cell_type": "markdown",
      "metadata": {
        "id": "OrxkVj-Jd77M",
        "colab_type": "text"
      },
      "source": [
        "### Copy the IP address of order and product LoadBalancer and paste it below"
      ]
    },
    {
      "cell_type": "code",
      "metadata": {
        "id": "uUn5XKluMGBC",
        "colab_type": "code",
        "colab": {}
      },
      "source": [
        "ORDER_SERVICE_IP_ARR =!kubectl get -o jsonpath=\"{.status.loadBalancer.ingress[0].ip}\" --namespace=default services orders\n",
        "ORDER_SERVICE_IP = ORDER_SERVICE_IP_ARR[0]\n",
        "print(ORDER_SERVICE_IP)\n",
        "PROD_SERVICE_IP_ARR =!kubectl get -o jsonpath=\"{.status.loadBalancer.ingress[0].ip}\" --namespace=default services products\n",
        "PROD_SERVICE_IP = PROD_SERVICE_IP_ARR[0]\n",
        "print(PROD_SERVICE_IP)"
      ],
      "execution_count": null,
      "outputs": []
    },
    {
      "cell_type": "code",
      "metadata": {
        "colab_type": "code",
        "id": "WRPImboqpY1K",
        "colab": {}
      },
      "source": [
        "%cd ~/monolith-to-microservices/react-app\n",
        "!cp ./.env.monolith ./.env\n",
        "!sed -i 's+/service/orders+http://{ORDER_SERVICE_IP}/api/orders+g' ./.env\n",
        "!sed -i 's+/service/products+http://{PROD_SERVICE_IP}/api/products+g' ./.env\n",
        "!cat ./.env"
      ],
      "execution_count": null,
      "outputs": []
    },
    {
      "cell_type": "code",
      "metadata": {
        "id": "3vV1ROzwfrP_",
        "colab_type": "code",
        "colab": {}
      },
      "source": [
        "!npm run build"
      ],
      "execution_count": null,
      "outputs": []
    },
    {
      "cell_type": "code",
      "metadata": {
        "id": "vH60mqSxfly5",
        "colab_type": "code",
        "colab": {}
      },
      "source": [
        "%cd ~/monolith-to-microservices/microservices/src/frontend\n",
        "!gcloud builds submit --tag gcr.io/${GOOGLE_CLOUD_PROJECT}/frontend:1.0.0 ."
      ],
      "execution_count": null,
      "outputs": []
    },
    {
      "cell_type": "code",
      "metadata": {
        "id": "r0a2U9ZWhVvi",
        "colab_type": "code",
        "colab": {}
      },
      "source": [
        "!kubectl create deployment frontend --image=gcr.io/${GOOGLE_CLOUD_PROJECT}/frontend:1.0.0"
      ],
      "execution_count": null,
      "outputs": []
    },
    {
      "cell_type": "code",
      "metadata": {
        "id": "NryskYVGhcDj",
        "colab_type": "code",
        "colab": {}
      },
      "source": [
        "!kubectl expose deployment frontend --type=LoadBalancer --port 80 --target-port 8080"
      ],
      "execution_count": null,
      "outputs": []
    },
    {
      "cell_type": "markdown",
      "metadata": {
        "id": "uoYVRwbQZcoW",
        "colab_type": "text"
      },
      "source": [
        "## How can I Get the External-IP address?"
      ]
    },
    {
      "cell_type": "code",
      "metadata": {
        "id": "ukFR0e9MfUfa",
        "colab_type": "code",
        "colab": {}
      },
      "source": [
        "!kubectl get nodes"
      ],
      "execution_count": null,
      "outputs": []
    },
    {
      "cell_type": "code",
      "metadata": {
        "id": "CxXMeYHqfYEp",
        "colab_type": "code",
        "colab": {}
      },
      "source": [
        "!kubectl get pods"
      ],
      "execution_count": null,
      "outputs": []
    },
    {
      "cell_type": "code",
      "metadata": {
        "id": "mgItpg9HZmD0",
        "colab_type": "code",
        "colab": {}
      },
      "source": [
        "!kubectl get service"
      ],
      "execution_count": null,
      "outputs": []
    },
    {
      "cell_type": "code",
      "metadata": {
        "id": "wkpgOljbGQe3",
        "colab_type": "code",
        "colab": {}
      },
      "source": [
        "FRONT_SERVICE_IP_ARR=!kubectl get -o jsonpath=\"{.status.loadBalancer.ingress[0].ip}\" --namespace=default services frontend\n",
        "FRONT_SERVICE_IP = FRONT_SERVICE_IP_ARR[0]\n",
        "'http://'+FRONT_SERVICE_IP"
      ],
      "execution_count": null,
      "outputs": []
    },
    {
      "cell_type": "markdown",
      "metadata": {
        "id": "yy6-JXROjg41",
        "colab_type": "text"
      },
      "source": [
        "## Resilency Test"
      ]
    },
    {
      "cell_type": "code",
      "metadata": {
        "id": "2x4fo63Yj48n",
        "colab_type": "code",
        "colab": {}
      },
      "source": [
        "!kubectl get pods"
      ],
      "execution_count": null,
      "outputs": []
    },
    {
      "cell_type": "code",
      "metadata": {
        "id": "YYU2S4XRj83U",
        "colab_type": "code",
        "colab": {}
      },
      "source": [
        "!kubectl delete pod products-6fd4b78888-mqfwv\n"
      ],
      "execution_count": null,
      "outputs": []
    },
    {
      "cell_type": "code",
      "metadata": {
        "id": "z1okg933bCbO",
        "colab_type": "code",
        "colab": {}
      },
      "source": [
        "!kubectl delete deployment products\n",
        "#!kubectl delete"
      ],
      "execution_count": null,
      "outputs": []
    },
    {
      "cell_type": "code",
      "metadata": {
        "id": "TQQKF5ZllTDn",
        "colab_type": "code",
        "colab": {}
      },
      "source": [
        "!kubectl create deployment products --image=gcr.io/${GOOGLE_CLOUD_PROJECT}/products:1.0.0"
      ],
      "execution_count": null,
      "outputs": []
    },
    {
      "cell_type": "code",
      "metadata": {
        "id": "Lb4aC3njmkfo",
        "colab_type": "code",
        "colab": {}
      },
      "source": [
        "!curl {PROD_SERVICE_IP}/api/products"
      ],
      "execution_count": null,
      "outputs": []
    },
    {
      "cell_type": "markdown",
      "metadata": {
        "id": "hfoZ7_7CnwhC",
        "colab_type": "text"
      },
      "source": [
        "## Internal Name space"
      ]
    },
    {
      "cell_type": "code",
      "metadata": {
        "id": "kcKZqaSR2nim",
        "colab_type": "code",
        "colab": {}
      },
      "source": [
        ""
      ],
      "execution_count": null,
      "outputs": []
    },
    {
      "cell_type": "markdown",
      "metadata": {
        "id": "4-Obhm2GCE8P",
        "colab_type": "text"
      },
      "source": [
        "# C : Cleanup Project"
      ]
    },
    {
      "cell_type": "markdown",
      "metadata": {
        "id": "QlM3-bbE4zY7",
        "colab_type": "text"
      },
      "source": [
        "###The code below will cause an error. It will prevent you from deleting the cluster unintentionally. <br>\n",
        "###Execute the cluster delete when you are done to clean up."
      ]
    },
    {
      "cell_type": "code",
      "metadata": {
        "id": "XSHKgvxw4yNF",
        "colab_type": "code",
        "colab": {}
      },
      "source": [
        "raise"
      ],
      "execution_count": null,
      "outputs": []
    },
    {
      "cell_type": "code",
      "metadata": {
        "id": "QZJ0wKLmJJIT",
        "colab_type": "code",
        "colab": {}
      },
      "source": [
        "!gcloud container clusters list"
      ],
      "execution_count": null,
      "outputs": []
    },
    {
      "cell_type": "code",
      "metadata": {
        "id": "LtrG__Ck-Y_x",
        "colab_type": "code",
        "colab": {}
      },
      "source": [
        "!gcloud container clusters delete fancy-cluster\n"
      ],
      "execution_count": null,
      "outputs": []
    }
  ]
}