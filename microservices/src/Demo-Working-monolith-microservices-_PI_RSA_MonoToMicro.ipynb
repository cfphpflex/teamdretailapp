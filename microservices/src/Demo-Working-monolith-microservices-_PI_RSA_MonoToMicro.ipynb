{
  "nbformat": 4,
  "nbformat_minor": 0,
  "metadata": {
    "colab": {
      "name": "Copy of PI RSA MonoToMicro.ipynb",
      "provenance": [],
      "collapsed_sections": []
    },
    "kernelspec": {
      "name": "python3",
      "display_name": "Python 3"
    }
  },
  "cells": [
    {
      "cell_type": "markdown",
      "metadata": {
        "id": "-Ij_gygBEymw",
        "colab_type": "text"
      },
      "source": [
        "# A : Setup"
      ]
    },
    {
      "cell_type": "markdown",
      "metadata": {
        "id": "SNLwwh5WC0Ph",
        "colab_type": "text"
      },
      "source": [
        "##A.1 Authentication and Checking User Details."
      ]
    },
    {
      "cell_type": "code",
      "metadata": {
        "id": "JPczOft2qqXx",
        "colab_type": "code",
        "colab": {}
      },
      "source": [
        "# Authenticate to GCS.\n",
        "from google.colab import auth\n",
        "auth.authenticate_user()"
      ],
      "execution_count": 107,
      "outputs": []
    },
    {
      "cell_type": "code",
      "metadata": {
        "id": "_L9dLwNWn0ua",
        "colab_type": "code",
        "colab": {
          "base_uri": "https://localhost:8080/",
          "height": 34
        },
        "outputId": "3317f114-b230-46aa-941b-1724ddc8679a"
      },
      "source": [
        "# Getting the email account that was used to login to this session\n",
        "import requests\n",
        "gcloud_token = !gcloud auth print-access-token\n",
        "gcloud_tokeninfo = requests.get('https://www.googleapis.com/oauth2/v3/tokeninfo?access_token=' + gcloud_token[0]).json()\n",
        "print(gcloud_tokeninfo['email'])"
      ],
      "execution_count": 108,
      "outputs": [
        {
          "output_type": "stream",
          "text": [
            "cfemilioc@gmail.com\n"
          ],
          "name": "stdout"
        }
      ]
    },
    {
      "cell_type": "markdown",
      "metadata": {
        "id": "64C8rahCDpCo",
        "colab_type": "text"
      },
      "source": [
        "##A.2 Setup the Project Parameters."
      ]
    },
    {
      "cell_type": "code",
      "metadata": {
        "colab_type": "code",
        "id": "58uzs3Uf-NPu",
        "colab": {}
      },
      "source": [
        "# Change the following if you are not in the rsa-dev-10 project\n",
        "# These parameters are generated outside of this notebook\n",
        "# Project: rsa-mla-prod\n",
        "\n",
        "# Project: rsa-dev-10\n",
        "project_id = 'rsa-mono-site5'\n",
        "bucket_id = 'rsa-mono-site5'\n",
        "# ip_addr_name = 'rsa-static-west'\n",
        "# project_id = 'mla-metric'\n",
        "# bucket_id = 'mla-metric'\n",
        "ip_addr_name = 'rsa-prod'\n",
        "\n",
        "# These are parameters you setup for this deployment\n",
        "region = 'us-central1'\n",
        "zone = 'us-central1-f'\n"
      ],
      "execution_count": 116,
      "outputs": []
    },
    {
      "cell_type": "code",
      "metadata": {
        "id": "gvxv5ygQFbY1",
        "colab_type": "code",
        "colab": {
          "base_uri": "https://localhost:8080/",
          "height": 34
        },
        "outputId": "3f20c0a0-a9b7-418f-d466-f56cc3949a36"
      },
      "source": [
        "import os\n",
        "os.environ['DEVSHELL_PROJECT_ID'] = project_id\n",
        "os.environ['GOOGLE_CLOUD_PROJECT'] = project_id\n",
        "\n",
        "!gcloud config set project {project_id} -q"
      ],
      "execution_count": 117,
      "outputs": [
        {
          "output_type": "stream",
          "text": [
            "Updated property [core/project].\n"
          ],
          "name": "stdout"
        }
      ]
    },
    {
      "cell_type": "code",
      "metadata": {
        "colab_type": "code",
        "id": "uePZlHbr_YdU",
        "colab": {
          "base_uri": "https://localhost:8080/",
          "height": 51
        },
        "outputId": "3d94ee57-2197-4bc8-a9e2-9ff7ba2c05a4"
      },
      "source": [
        "!gcloud config set compute/zone {zone}\n",
        "!gcloud config set compute/region {region}"
      ],
      "execution_count": 118,
      "outputs": [
        {
          "output_type": "stream",
          "text": [
            "Updated property [compute/zone].\n",
            "Updated property [compute/region].\n"
          ],
          "name": "stdout"
        }
      ]
    },
    {
      "cell_type": "markdown",
      "metadata": {
        "id": "QQyinkfxdymi",
        "colab_type": "text"
      },
      "source": [
        "### Install Kubectl"
      ]
    },
    {
      "cell_type": "code",
      "metadata": {
        "id": "DNFZOhW2U1x-",
        "colab_type": "code",
        "colab": {
          "base_uri": "https://localhost:8080/",
          "height": 68
        },
        "outputId": "3356155c-c880-42c4-d9cc-ac00017fe4a4"
      },
      "source": [
        "!curl -LO https://storage.googleapis.com/kubernetes-release/release/`curl -s \\\n",
        " https://storage.googleapis.com/kubernetes-release/release/stable.txt`/bin/linux/amd64/kubectl"
      ],
      "execution_count": 119,
      "outputs": [
        {
          "output_type": "stream",
          "text": [
            "  % Total    % Received % Xferd  Average Speed   Time    Time     Time  Current\n",
            "                                 Dload  Upload   Total   Spent    Left  Speed\n",
            "\r  0     0    0     0    0     0      0      0 --:--:-- --:--:-- --:--:--     0\r  0 41.9M    0 94379    0     0   930k      0  0:00:46 --:--:--  0:00:46  921k\r100 41.9M  100 41.9M    0     0   141M      0 --:--:-- --:--:-- --:--:--  141M\n"
          ],
          "name": "stdout"
        }
      ]
    },
    {
      "cell_type": "code",
      "metadata": {
        "id": "PuVTL9sEU8Ew",
        "colab_type": "code",
        "colab": {
          "base_uri": "https://localhost:8080/",
          "height": 54
        },
        "outputId": "7717047e-cf0b-4919-b430-54b0decff789"
      },
      "source": [
        "!chmod +x kubectl\n",
        "!sudo mv ./kubectl /usr/local/bin/kubectl\n",
        "!kubectl version --client"
      ],
      "execution_count": 120,
      "outputs": [
        {
          "output_type": "stream",
          "text": [
            "Client Version: version.Info{Major:\"1\", Minor:\"18\", GitVersion:\"v1.18.6\", GitCommit:\"dff82dc0de47299ab66c83c626e08b245ab19037\", GitTreeState:\"clean\", BuildDate:\"2020-07-15T16:58:53Z\", GoVersion:\"go1.13.9\", Compiler:\"gc\", Platform:\"linux/amd64\"}\n"
          ],
          "name": "stdout"
        }
      ]
    },
    {
      "cell_type": "markdown",
      "metadata": {
        "id": "WELJ0O3K8N2Q",
        "colab_type": "text"
      },
      "source": [
        "##A.3 Enabling APIs"
      ]
    },
    {
      "cell_type": "code",
      "metadata": {
        "id": "C1Ot3t91FKlI",
        "colab_type": "code",
        "colab": {
          "base_uri": "https://localhost:8080/",
          "height": 51
        },
        "outputId": "ea15a308-a604-4593-a91f-2f3ae79b9cc6"
      },
      "source": [
        "!gcloud services enable container.googleapis.com --async\n",
        "!gcloud services enable containerregistry.googleapis.com --async\n",
        "!gcloud services enable compute.googleapis.com --async\n",
        "!gcloud services enable storage-api.googleapis.com --async\n",
        "!gcloud services enable storage-component.googleapis.com --async                        \n",
        "!gcloud services enable servicemanagement.googleapis.com --async\n",
        "!gcloud services enable iam.googleapis.com --async\n",
        "!gcloud services enable cloudbuild.googleapis.com --async"
      ],
      "execution_count": 121,
      "outputs": [
        {
          "output_type": "stream",
          "text": [
            "Asynchronous operation is in progress... Use the following command to wait for its completion:\n",
            " gcloud beta services operations wait operations/acf.03613c86-289c-4ff1-b8d5-b56b33c68b3d\n"
          ],
          "name": "stdout"
        }
      ]
    },
    {
      "cell_type": "markdown",
      "metadata": {
        "id": "5EI2Akt4x_YT",
        "colab_type": "text"
      },
      "source": [
        "# B : Git Repository Pull"
      ]
    },
    {
      "cell_type": "code",
      "metadata": {
        "id": "Hh0g2MmXYPAc",
        "colab_type": "code",
        "colab": {
          "base_uri": "https://localhost:8080/",
          "height": 289
        },
        "outputId": "5818569d-3625-4ede-a13a-6495c2d737a5"
      },
      "source": [
        "%cd ~\n",
        "!rm -rf ~/RSA-Mono-Site\n",
        "!git clone https://github.com/cfphpflex/RSA-Mono-Site.git\n",
        "%cd ~/RSA-Mono-Site\n",
        "!./setup.sh"
      ],
      "execution_count": 122,
      "outputs": [
        {
          "output_type": "stream",
          "text": [
            "/root\n",
            "Cloning into 'RSA-Mono-Site'...\n",
            "remote: Enumerating objects: 253, done.\u001b[K\n",
            "remote: Counting objects: 100% (253/253), done.\u001b[K\n",
            "remote: Compressing objects: 100% (145/145), done.\u001b[K\n",
            "remote: Total 253 (delta 129), reused 204 (delta 83), pack-reused 0\u001b[K\n",
            "Receiving objects: 100% (253/253), 1.27 MiB | 20.28 MiB/s, done.\n",
            "Resolving deltas: 100% (129/129), done.\n",
            "/root/RSA-Mono-Site\n",
            "Checking for required npm version...Completed.\n",
            "Installing monolith dependencies...Completed.\n",
            "Installing microservies dependencies...Completed.\n",
            "Installing React app dependencies...Completed.\n",
            "Building React app and placing into sub projects...Completed.\n",
            "\n",
            "Script completed successfully!\n"
          ],
          "name": "stdout"
        }
      ]
    },
    {
      "cell_type": "code",
      "metadata": {
        "id": "xDcUD81SZtrh",
        "colab_type": "code",
        "colab": {
          "base_uri": "https://localhost:8080/",
          "height": 238
        },
        "outputId": "b60450e3-45c7-46df-dd95-9d2a0b37988d"
      },
      "source": [
        "!python main.py\n",
        "#! nano main.py\n"
      ],
      "execution_count": 123,
      "outputs": [
        {
          "output_type": "stream",
          "text": [
            " * Serving Flask app \"main\" (lazy loading)\n",
            " * Environment: production\n",
            "\u001b[31m   WARNING: This is a development server. Do not use it in a production deployment.\u001b[0m\n",
            "\u001b[2m   Use a production WSGI server instead.\u001b[0m\n",
            " * Debug mode: on\n",
            "Traceback (most recent call last):\n",
            "  File \"main.py\", line 29, in <module>\n",
            "    app.run(host='0.0.0.0', port=8080, debug=True)\n",
            "  File \"/usr/local/lib/python3.6/dist-packages/flask/app.py\", line 990, in run\n",
            "    run_simple(host, port, self, **options)\n",
            "  File \"/usr/local/lib/python3.6/dist-packages/werkzeug/serving.py\", line 1030, in run_simple\n",
            "    s.bind(server_address)\n",
            "OSError: [Errno 98] Address already in use\n"
          ],
          "name": "stdout"
        }
      ]
    },
    {
      "cell_type": "code",
      "metadata": {
        "id": "SKNevINVEIlI",
        "colab_type": "code",
        "colab": {
          "base_uri": "https://localhost:8080/",
          "height": 289
        },
        "outputId": "a2166cea-21d6-4027-f004-57829a03fbb6"
      },
      "source": [
        "!ls -lrt"
      ],
      "execution_count": 124,
      "outputs": [
        {
          "output_type": "stream",
          "text": [
            "total 60\n",
            "-rw-r--r-- 1 root root 3485 Jul 30 03:32 README.md\n",
            "drwxr-xr-x 6 root root 4096 Jul 30 03:32 RSA-Core\n",
            "-rwxr-xr-x 1 root root    9 Jul 30 03:32 index.html\n",
            "-rwxr-xr-x 1 root root 2715 Jul 30 03:32 firestore.py\n",
            "-rwxr-xr-x 1 root root 1336 Jul 30 03:32 deploy-monolith.sh\n",
            "-rwxr-xr-x 1 root root 1049 Jul 30 03:32 app.yaml\n",
            "-rwxr-xr-x 1 root root  705 Jul 30 03:32 main.py\n",
            "-rwxr-xr-x 1 root root  196 Jul 30 03:32 requirements.txt\n",
            "-rwxr-xr-x 1 root root 2814 Jul 30 03:32 storage.py\n",
            "-rwxr-xr-x 1 root root 1312 Jul 30 03:32 setup.sh\n",
            "drwxr-xr-x 3 root root 4096 Jul 30 03:32 microservices\n",
            "drwxr-xr-x 2 root root 4096 Jul 30 03:33 logs\n",
            "drwxr-xr-x 7 root root 4096 Jul 30 03:33 react-app\n",
            "drwxr-xr-x 7 root root 4096 Jul 30 03:33 monolith\n",
            "drwxr-xr-x 2 root root 4096 Jul 30 03:35 __pycache__\n"
          ],
          "name": "stdout"
        }
      ]
    },
    {
      "cell_type": "code",
      "metadata": {
        "id": "qyzVi2tq0BFV",
        "colab_type": "code",
        "colab": {
          "base_uri": "https://localhost:8080/",
          "height": 207
        },
        "outputId": "5789cd99-4854-4d96-977e-6c584b5a9023"
      },
      "source": [
        "!gcloud container clusters create fancy-cluster --num-nodes 3"
      ],
      "execution_count": 125,
      "outputs": [
        {
          "output_type": "stream",
          "text": [
            "\u001b[1;33mWARNING:\u001b[0m Currently VPC-native is not the default mode during cluster creation. In the future, this will become the default mode and can be disabled using `--no-enable-ip-alias` flag. Use `--[no-]enable-ip-alias` flag to suppress this warning.\n",
            "\u001b[1;33mWARNING:\u001b[0m Newly created clusters and node-pools will have node auto-upgrade enabled by default. This can be disabled using the `--no-enable-autoupgrade` flag.\n",
            "\u001b[1;33mWARNING:\u001b[0m Starting with version 1.18, clusters will have shielded GKE nodes by default.\n",
            "\u001b[1;33mWARNING:\u001b[0m Your Pod address range (`--cluster-ipv4-cidr`) can accommodate at most 1008 node(s). \n",
            "This will enable the autorepair feature for nodes. Please see https://cloud.google.com/kubernetes-engine/docs/node-auto-repair for more information on node autorepairs.\n",
            "Created [https://container.googleapis.com/v1/projects/rsa-mono-site5/zones/us-central1-f/clusters/fancy-cluster].\n",
            "To inspect the contents of your cluster, go to: https://console.cloud.google.com/kubernetes/workload_/gcloud/us-central1-f/fancy-cluster?project=rsa-mono-site5\n",
            "kubeconfig entry generated for fancy-cluster.\n",
            "NAME           LOCATION       MASTER_VERSION  MASTER_IP       MACHINE_TYPE   NODE_VERSION   NUM_NODES  STATUS\n",
            "fancy-cluster  us-central1-f  1.15.12-gke.2   35.192.166.246  n1-standard-1  1.15.12-gke.2  3          RUNNING\n"
          ],
          "name": "stdout"
        }
      ]
    },
    {
      "cell_type": "code",
      "metadata": {
        "id": "Z9aZKNhAVfvf",
        "colab_type": "code",
        "colab": {
          "base_uri": "https://localhost:8080/",
          "height": 34
        },
        "outputId": "e09d520c-999d-4e89-ccad-defa800e9228"
      },
      "source": [
        "!gcloud config set container/use_application_default_credentials true"
      ],
      "execution_count": 126,
      "outputs": [
        {
          "output_type": "stream",
          "text": [
            "Updated property [container/use_application_default_credentials].\n"
          ],
          "name": "stdout"
        }
      ]
    },
    {
      "cell_type": "code",
      "metadata": {
        "id": "sHCGVnovdy8J",
        "colab_type": "code",
        "colab": {
          "base_uri": "https://localhost:8080/",
          "height": 85
        },
        "outputId": "6317fc76-b75a-43d8-9d54-29fc9b52a258"
      },
      "source": [
        "!gcloud compute instances list"
      ],
      "execution_count": 127,
      "outputs": [
        {
          "output_type": "stream",
          "text": [
            "NAME                                          ZONE           MACHINE_TYPE   PREEMPTIBLE  INTERNAL_IP  EXTERNAL_IP    STATUS\n",
            "gke-fancy-cluster-default-pool-93ff2869-7j6t  us-central1-f  n1-standard-1               10.128.0.4   35.238.58.195  RUNNING\n",
            "gke-fancy-cluster-default-pool-93ff2869-ddh5  us-central1-f  n1-standard-1               10.128.0.2   34.72.165.16   RUNNING\n",
            "gke-fancy-cluster-default-pool-93ff2869-z89z  us-central1-f  n1-standard-1               10.128.0.3   35.202.62.224  RUNNING\n"
          ],
          "name": "stdout"
        }
      ]
    },
    {
      "cell_type": "markdown",
      "metadata": {
        "id": "0aHkPK-DVKG6",
        "colab_type": "text"
      },
      "source": [
        "Get Credentials"
      ]
    },
    {
      "cell_type": "code",
      "metadata": {
        "id": "RoeGLD4IYOCL",
        "colab_type": "code",
        "colab": {
          "base_uri": "https://localhost:8080/",
          "height": 187
        },
        "outputId": "912e180c-3240-4b63-e53e-c96d4fe02cca"
      },
      "source": [
        "!gcloud config set container/use_application_default_credentials true\n",
        "!gcloud container clusters get-credentials fancy-cluster\n",
        "!kubectl cluster-info"
      ],
      "execution_count": 128,
      "outputs": [
        {
          "output_type": "stream",
          "text": [
            "Updated property [container/use_application_default_credentials].\n",
            "Fetching cluster endpoint and auth data.\n",
            "kubeconfig entry generated for fancy-cluster.\n",
            "\u001b[0;32mKubernetes master\u001b[0m is running at \u001b[0;33mhttps://35.192.166.246\u001b[0m\n",
            "\u001b[0;32mGLBCDefaultBackend\u001b[0m is running at \u001b[0;33mhttps://35.192.166.246/api/v1/namespaces/kube-system/services/default-http-backend:http/proxy\u001b[0m\n",
            "\u001b[0;32mHeapster\u001b[0m is running at \u001b[0;33mhttps://35.192.166.246/api/v1/namespaces/kube-system/services/heapster/proxy\u001b[0m\n",
            "\u001b[0;32mKubeDNS\u001b[0m is running at \u001b[0;33mhttps://35.192.166.246/api/v1/namespaces/kube-system/services/kube-dns:dns/proxy\u001b[0m\n",
            "\u001b[0;32mMetrics-server\u001b[0m is running at \u001b[0;33mhttps://35.192.166.246/api/v1/namespaces/kube-system/services/https:metrics-server:/proxy\u001b[0m\n",
            "\n",
            "To further debug and diagnose cluster problems, use 'kubectl cluster-info dump'.\n"
          ],
          "name": "stdout"
        }
      ]
    },
    {
      "cell_type": "code",
      "metadata": {
        "id": "5r0OC2cvXDxc",
        "colab_type": "code",
        "colab": {
          "base_uri": "https://localhost:8080/",
          "height": 374
        },
        "outputId": "5ccf0ad1-ba76-49a5-b3c2-5baf05f6dbfb"
      },
      "source": [
        "!pwd\n",
        "!python main.py\n",
        "!./deploy-monolith.sh\n",
        "\n",
        "\n",
        "\n"
      ],
      "execution_count": 129,
      "outputs": [
        {
          "output_type": "stream",
          "text": [
            "/root/RSA-Mono-Site\n",
            " * Serving Flask app \"main\" (lazy loading)\n",
            " * Environment: production\n",
            "\u001b[31m   WARNING: This is a development server. Do not use it in a production deployment.\u001b[0m\n",
            "\u001b[2m   Use a production WSGI server instead.\u001b[0m\n",
            " * Debug mode: on\n",
            "Traceback (most recent call last):\n",
            "  File \"main.py\", line 29, in <module>\n",
            "    app.run(host='0.0.0.0', port=8080, debug=True)\n",
            "  File \"/usr/local/lib/python3.6/dist-packages/flask/app.py\", line 990, in run\n",
            "    run_simple(host, port, self, **options)\n",
            "  File \"/usr/local/lib/python3.6/dist-packages/werkzeug/serving.py\", line 1030, in run_simple\n",
            "    s.bind(server_address)\n",
            "OSError: [Errno 98] Address already in use\n",
            "Enabling Cloud Build APIs...Completed.\n",
            "Building Monolith Container...Completed.\n",
            "Deploying Monolith To GKE Cluster...Completed.\n",
            "\n",
            "Please run the following command to find the IP address for the monolith service:  kubectl get service monolith\n",
            "\n",
            "Deployment Complete\n"
          ],
          "name": "stdout"
        }
      ]
    },
    {
      "cell_type": "code",
      "metadata": {
        "id": "JIivH0nhZc7J",
        "colab_type": "code",
        "colab": {
          "base_uri": "https://localhost:8080/",
          "height": 136
        },
        "outputId": "fa138657-91c4-4f64-f425-076ddb58e9a5"
      },
      "source": [
        "!gcloud compute instances list\n",
        "!kubectl get service"
      ],
      "execution_count": 131,
      "outputs": [
        {
          "output_type": "stream",
          "text": [
            "NAME                                          ZONE           MACHINE_TYPE   PREEMPTIBLE  INTERNAL_IP  EXTERNAL_IP    STATUS\n",
            "gke-fancy-cluster-default-pool-93ff2869-7j6t  us-central1-f  n1-standard-1               10.128.0.4   35.238.58.195  RUNNING\n",
            "gke-fancy-cluster-default-pool-93ff2869-ddh5  us-central1-f  n1-standard-1               10.128.0.2   34.72.165.16   RUNNING\n",
            "gke-fancy-cluster-default-pool-93ff2869-z89z  us-central1-f  n1-standard-1               10.128.0.3   35.202.62.224  RUNNING\n",
            "NAME         TYPE           CLUSTER-IP     EXTERNAL-IP   PORT(S)        AGE\n",
            "kubernetes   ClusterIP      10.19.240.1    <none>        443/TCP        4m50s\n",
            "monolith     LoadBalancer   10.19.244.82   34.66.54.67   80:30243/TCP   72s\n"
          ],
          "name": "stdout"
        }
      ]
    },
    {
      "cell_type": "markdown",
      "metadata": {
        "id": "uSlvZw_iy-fe",
        "colab_type": "text"
      },
      "source": [
        "# C: Build Container Image"
      ]
    },
    {
      "cell_type": "markdown",
      "metadata": {
        "id": "RnVflo-raWBZ",
        "colab_type": "text"
      },
      "source": [
        "##Build Order Container Image and Deploy It"
      ]
    },
    {
      "cell_type": "code",
      "metadata": {
        "id": "TrDeLfYhsQad",
        "colab_type": "code",
        "colab": {}
      },
      "source": [
        "%cd ~/RSA-Mono-Site/microservices/src/orders\n",
        "!gcloud builds submit --tag gcr.io/${GOOGLE_CLOUD_PROJECT}/orders:1.0.0 ."
      ],
      "execution_count": null,
      "outputs": []
    },
    {
      "cell_type": "code",
      "metadata": {
        "id": "2NyYttxltGCF",
        "colab_type": "code",
        "colab": {
          "base_uri": "https://localhost:8080/",
          "height": 34
        },
        "outputId": "c4f9d052-686e-4e62-e356-16859601f803"
      },
      "source": [
        "!kubectl create deployment orders --image=gcr.io/${GOOGLE_CLOUD_PROJECT}/orders:1.0.0"
      ],
      "execution_count": 150,
      "outputs": [
        {
          "output_type": "stream",
          "text": [
            "Error from server (AlreadyExists): deployments.apps \"orders\" already exists\n"
          ],
          "name": "stdout"
        }
      ]
    },
    {
      "cell_type": "code",
      "metadata": {
        "id": "2Ilj1JERcpCz",
        "colab_type": "code",
        "colab": {
          "base_uri": "https://localhost:8080/",
          "height": 34
        },
        "outputId": "60ac7d98-e1d1-40e8-b1ed-7647a3953afe"
      },
      "source": [
        "!kubectl expose deployment orders --type=LoadBalancer --port 80 --target-port 8080"
      ],
      "execution_count": 166,
      "outputs": [
        {
          "output_type": "stream",
          "text": [
            "Error from server (AlreadyExists): services \"orders\" already exists\n"
          ],
          "name": "stdout"
        }
      ]
    },
    {
      "cell_type": "markdown",
      "metadata": {
        "id": "-C9DOaq_dOtu",
        "colab_type": "text"
      },
      "source": [
        "##Build Product Container Image and Deploy It"
      ]
    },
    {
      "cell_type": "markdown",
      "metadata": {
        "colab_type": "text",
        "id": "rMbfQzFstLHF"
      },
      "source": [
        "*italicized text*##Build products Container Image and Deploy It"
      ]
    },
    {
      "cell_type": "code",
      "metadata": {
        "id": "_NWqbdfYnHsw",
        "colab_type": "code",
        "colab": {}
      },
      "source": [
        "%cd ~/RSA-Mono-Site/microservices/src/products\n",
        "!gcloud builds submit --tag gcr.io/${GOOGLE_CLOUD_PROJECT}/products:1.0.0 ."
      ],
      "execution_count": null,
      "outputs": []
    },
    {
      "cell_type": "code",
      "metadata": {
        "id": "6e_0mU4da4Ma",
        "colab_type": "code",
        "colab": {
          "base_uri": "https://localhost:8080/",
          "height": 34
        },
        "outputId": "b0f146d9-ddff-4159-c16a-ccccf1e5b5e3"
      },
      "source": [
        "!kubectl create deployment products --image=gcr.io/${GOOGLE_CLOUD_PROJECT}/products:1.0.0"
      ],
      "execution_count": 133,
      "outputs": [
        {
          "output_type": "stream",
          "text": [
            "deployment.apps/products created\n"
          ],
          "name": "stdout"
        }
      ]
    },
    {
      "cell_type": "code",
      "metadata": {
        "id": "JOE0DybcdlxB",
        "colab_type": "code",
        "colab": {
          "base_uri": "https://localhost:8080/",
          "height": 34
        },
        "outputId": "4126e17c-9aa8-49c0-bb3b-8bb774131323"
      },
      "source": [
        "!kubectl expose deployment products --type=LoadBalancer --port 80 --target-port 8080"
      ],
      "execution_count": 165,
      "outputs": [
        {
          "output_type": "stream",
          "text": [
            "Error from server (AlreadyExists): services \"products\" already exists\n"
          ],
          "name": "stdout"
        }
      ]
    },
    {
      "cell_type": "markdown",
      "metadata": {
        "colab_type": "text",
        "id": "wfWf0Rx_srBH"
      },
      "source": [
        "Build USERS Container Image and Deploy It"
      ]
    },
    {
      "cell_type": "code",
      "metadata": {
        "colab_type": "code",
        "id": "eKNViMkNsrBM",
        "colab": {}
      },
      "source": [
        "%cd ~/RSA-Mono-Site/microservices/src/users\n",
        "!gcloud builds submit --tag gcr.io/${GOOGLE_CLOUD_PROJECT}/users:1.0.0 ."
      ],
      "execution_count": null,
      "outputs": []
    },
    {
      "cell_type": "code",
      "metadata": {
        "colab_type": "code",
        "id": "_edu42PPsrBS",
        "colab": {}
      },
      "source": [
        "!kubectl create deployment users --image=gcr.io/${GOOGLE_CLOUD_PROJECT}/users:1.0.0"
      ],
      "execution_count": null,
      "outputs": []
    },
    {
      "cell_type": "code",
      "metadata": {
        "colab_type": "code",
        "id": "gpK49k1YsrBV",
        "colab": {}
      },
      "source": [
        "!kubectl expose deployment users --type=LoadBalancer --port 80 --target-port 8082"
      ],
      "execution_count": null,
      "outputs": []
    },
    {
      "cell_type": "code",
      "metadata": {
        "id": "kuwQbPi31xAc",
        "colab_type": "code",
        "colab": {}
      },
      "source": [
        "##Build FrontEnd  Container Image and Deploy It"
      ],
      "execution_count": null,
      "outputs": []
    },
    {
      "cell_type": "code",
      "metadata": {
        "id": "Nu-3DwmD15SF",
        "colab_type": "code",
        "colab": {}
      },
      "source": [
        "%cd ~/RSA-Mono-Site/microservices/src/frontend\n",
        "!gcloud builds submit --tag gcr.io/${GOOGLE_CLOUD_PROJECT}/frontend:1.0.0 ."
      ],
      "execution_count": null,
      "outputs": []
    },
    {
      "cell_type": "code",
      "metadata": {
        "id": "oMSRxnrl2Anp",
        "colab_type": "code",
        "colab": {}
      },
      "source": [
        "!kubectl create deployment frontend --image=gcr.io/${GOOGLE_CLOUD_PROJECT}/frontend:1.0.0"
      ],
      "execution_count": null,
      "outputs": []
    },
    {
      "cell_type": "code",
      "metadata": {
        "id": "uOVvgbix2Ntv",
        "colab_type": "code",
        "colab": {
          "base_uri": "https://localhost:8080/",
          "height": 34
        },
        "outputId": "764bbe88-0128-4337-fc74-0658d77cb809"
      },
      "source": [
        "!kubectl expose deployment frontend --type=LoadBalancer --port 80 --target-port 8082"
      ],
      "execution_count": 146,
      "outputs": [
        {
          "output_type": "stream",
          "text": [
            "service/frontend exposed\n"
          ],
          "name": "stdout"
        }
      ]
    },
    {
      "cell_type": "markdown",
      "metadata": {
        "id": "dXfnHzU2hBWk",
        "colab_type": "text"
      },
      "source": [
        "## Build Frontend Container and Deploy It"
      ]
    },
    {
      "cell_type": "code",
      "metadata": {
        "id": "oKwj354jdzeo",
        "colab_type": "code",
        "colab": {
          "base_uri": "https://localhost:8080/",
          "height": 136
        },
        "outputId": "690b990c-9e5d-4c58-e900-02b0065456d3"
      },
      "source": [
        "!kubectl get service"
      ],
      "execution_count": 154,
      "outputs": [
        {
          "output_type": "stream",
          "text": [
            "NAME         TYPE           CLUSTER-IP      EXTERNAL-IP     PORT(S)        AGE\n",
            "frontend     LoadBalancer   10.19.241.50    34.69.153.194   80:30145/TCP   2m39s\n",
            "kubernetes   ClusterIP      10.19.240.1     <none>          443/TCP        17m\n",
            "monolith     LoadBalancer   10.19.244.82    34.66.54.67     80:30243/TCP   13m\n",
            "orders       LoadBalancer   10.19.248.36    34.69.61.52     80:32633/TCP   37s\n",
            "products     LoadBalancer   10.19.244.193   35.224.86.104   80:30492/TCP   10m\n",
            "users        LoadBalancer   10.19.251.127   35.238.211.15   80:30592/TCP   8m52s\n"
          ],
          "name": "stdout"
        }
      ]
    },
    {
      "cell_type": "markdown",
      "metadata": {
        "id": "OrxkVj-Jd77M",
        "colab_type": "text"
      },
      "source": [
        "### Copy the IP address of order and product LoadBalancer and paste it below"
      ]
    },
    {
      "cell_type": "code",
      "metadata": {
        "id": "uUn5XKluMGBC",
        "colab_type": "code",
        "colab": {}
      },
      "source": [
        "ORDER_SERVICE_IP_ARR =!kubectl get -o jsonpath=\"34.69.61.52\" --namespace=default services orders\n",
        "ORDER_SERVICE_IP = ORDER_SERVICE_IP_ARR[0]\n",
        "print(ORDER_SERVICE_IP)\n",
        "PROD_SERVICE_IP_ARR =!kubectl get -o jsonpath=\"35.224.86.104\" --namespace=default services products\n",
        "PROD_SERVICE_IP = PROD_SERVICE_IP_ARR[0]\n",
        "print(PROD_SERVICE_IP)"
      ],
      "execution_count": null,
      "outputs": []
    },
    {
      "cell_type": "code",
      "metadata": {
        "colab_type": "code",
        "id": "WRPImboqpY1K",
        "colab": {
          "base_uri": "https://localhost:8080/",
          "height": 68
        },
        "outputId": "65dac934-75c7-4ce9-acdb-41c58186f91a"
      },
      "source": [
        "%cd ~/RSA-Mono-Site/react-app\n",
        "!cp ./.env.monolith ./.env\n",
        "!sed -i 's+/service/orders+http://{ORDER_SERVICE_IP}/api/orders+g' ./.env\n",
        "!sed -i 's+/service/products+http://{PROD_SERVICE_IP}/api/products+g' ./.env\n",
        "!cat ./.env"
      ],
      "execution_count": 156,
      "outputs": [
        {
          "output_type": "stream",
          "text": [
            "/root/RSA-Mono-Site/react-app\n",
            "REACT_APP_ORDERS_URL=http://34.69.61.52/api/orders\n",
            "REACT_APP_PRODUCTS_URL=http://35.224.86.104/api/products"
          ],
          "name": "stdout"
        }
      ]
    },
    {
      "cell_type": "code",
      "metadata": {
        "id": "3vV1ROzwfrP_",
        "colab_type": "code",
        "colab": {}
      },
      "source": [
        "!npm run build"
      ],
      "execution_count": null,
      "outputs": []
    },
    {
      "cell_type": "code",
      "metadata": {
        "id": "vH60mqSxfly5",
        "colab_type": "code",
        "colab": {}
      },
      "source": [
        "%cd ~/RSA-Mono-Site/microservices/src/frontend\n",
        "!gcloud builds submit --tag gcr.io/${GOOGLE_CLOUD_PROJECT}/frontend:1.0.0 ."
      ],
      "execution_count": null,
      "outputs": []
    },
    {
      "cell_type": "code",
      "metadata": {
        "id": "r0a2U9ZWhVvi",
        "colab_type": "code",
        "colab": {}
      },
      "source": [
        "!kubectl create deployment frontend --image=gcr.io/${GOOGLE_CLOUD_PROJECT}/frontend:1.0.0"
      ],
      "execution_count": null,
      "outputs": []
    },
    {
      "cell_type": "code",
      "metadata": {
        "id": "NryskYVGhcDj",
        "colab_type": "code",
        "colab": {}
      },
      "source": [
        "!kubectl expose deployment frontend --type=LoadBalancer --port 80 --target-port 8080"
      ],
      "execution_count": null,
      "outputs": []
    },
    {
      "cell_type": "markdown",
      "metadata": {
        "id": "uoYVRwbQZcoW",
        "colab_type": "text"
      },
      "source": [
        "## How can I Get the External-IP address?"
      ]
    },
    {
      "cell_type": "code",
      "metadata": {
        "id": "ukFR0e9MfUfa",
        "colab_type": "code",
        "colab": {
          "base_uri": "https://localhost:8080/",
          "height": 85
        },
        "outputId": "99e0f6bc-ed63-4ae0-c43d-56844cefd2d3"
      },
      "source": [
        "!kubectl get nodes"
      ],
      "execution_count": 161,
      "outputs": [
        {
          "output_type": "stream",
          "text": [
            "NAME                                           STATUS   ROLES    AGE   VERSION\n",
            "gke-fancy-cluster-default-pool-93ff2869-7j6t   Ready    <none>   19m   v1.15.12-gke.2\n",
            "gke-fancy-cluster-default-pool-93ff2869-ddh5   Ready    <none>   19m   v1.15.12-gke.2\n",
            "gke-fancy-cluster-default-pool-93ff2869-z89z   Ready    <none>   19m   v1.15.12-gke.2\n"
          ],
          "name": "stdout"
        }
      ]
    },
    {
      "cell_type": "code",
      "metadata": {
        "id": "CxXMeYHqfYEp",
        "colab_type": "code",
        "colab": {
          "base_uri": "https://localhost:8080/",
          "height": 119
        },
        "outputId": "f61a0ed2-9ac1-47b6-fc4f-68847a38759b"
      },
      "source": [
        "!kubectl get pods"
      ],
      "execution_count": 162,
      "outputs": [
        {
          "output_type": "stream",
          "text": [
            "NAME                        READY   STATUS    RESTARTS   AGE\n",
            "frontend-569fd74db5-gw75v   1/1     Running   0          6m40s\n",
            "monolith-5f947c777-jcw77    1/1     Running   0          16m\n",
            "orders-7ccc9bb5bb-5vgqt     1/1     Running   0          3m43s\n",
            "products-5d785f76b9-xhpgn   1/1     Running   0          12m\n",
            "users-97589c765-qzgdn       1/1     Running   0          11m\n"
          ],
          "name": "stdout"
        }
      ]
    },
    {
      "cell_type": "code",
      "metadata": {
        "id": "mgItpg9HZmD0",
        "colab_type": "code",
        "colab": {
          "base_uri": "https://localhost:8080/",
          "height": 136
        },
        "outputId": "b898b702-ea7c-48ee-8e64-a94f75fa45ca"
      },
      "source": [
        "!kubectl get service"
      ],
      "execution_count": 163,
      "outputs": [
        {
          "output_type": "stream",
          "text": [
            "NAME         TYPE           CLUSTER-IP      EXTERNAL-IP     PORT(S)        AGE\n",
            "frontend     LoadBalancer   10.19.241.50    34.69.153.194   80:30145/TCP   5m14s\n",
            "kubernetes   ClusterIP      10.19.240.1     <none>          443/TCP        19m\n",
            "monolith     LoadBalancer   10.19.244.82    34.66.54.67     80:30243/TCP   16m\n",
            "orders       LoadBalancer   10.19.248.36    34.69.61.52     80:32633/TCP   3m12s\n",
            "products     LoadBalancer   10.19.244.193   35.224.86.104   80:30492/TCP   12m\n",
            "users        LoadBalancer   10.19.251.127   35.238.211.15   80:30592/TCP   11m\n"
          ],
          "name": "stdout"
        }
      ]
    },
    {
      "cell_type": "code",
      "metadata": {
        "id": "wkpgOljbGQe3",
        "colab_type": "code",
        "colab": {
          "base_uri": "https://localhost:8080/",
          "height": 35
        },
        "outputId": "a9842da3-bbc3-4dd7-808e-f0a247274e50"
      },
      "source": [
        "FRONT_SERVICE_IP_ARR=!kubectl get -o jsonpath=\"35.226.95.49\" --namespace=default services frontend\n",
        "FRONT_SERVICE_IP = FRONT_SERVICE_IP_ARR[0]\n",
        "'http://'+FRONT_SERVICE_IP"
      ],
      "execution_count": 164,
      "outputs": [
        {
          "output_type": "execute_result",
          "data": {
            "application/vnd.google.colaboratory.intrinsic+json": {
              "type": "string"
            },
            "text/plain": [
              "'http://35.226.95.49'"
            ]
          },
          "metadata": {
            "tags": []
          },
          "execution_count": 164
        }
      ]
    },
    {
      "cell_type": "markdown",
      "metadata": {
        "id": "yy6-JXROjg41",
        "colab_type": "text"
      },
      "source": [
        "## Resilency Test"
      ]
    },
    {
      "cell_type": "code",
      "metadata": {
        "id": "2x4fo63Yj48n",
        "colab_type": "code",
        "colab": {
          "base_uri": "https://localhost:8080/",
          "height": 119
        },
        "outputId": "b6d66494-f3bb-46d6-9f96-12de24f76741"
      },
      "source": [
        "!kubectl get pods"
      ],
      "execution_count": 102,
      "outputs": [
        {
          "output_type": "stream",
          "text": [
            "NAME                        READY   STATUS    RESTARTS   AGE\n",
            "frontend-84c5597b4d-6wm9l   1/1     Running   0          20m\n",
            "monolith-69bb74676d-tj8hr   1/1     Running   0          32m\n",
            "orders-6bbc98c9c9-8s52n     1/1     Running   0          28m\n",
            "products-68699cb54d-7nl5x   1/1     Running   0          27m\n",
            "users-6d98786b78-dqrq7      1/1     Running   0          116s\n"
          ],
          "name": "stdout"
        }
      ]
    },
    {
      "cell_type": "code",
      "metadata": {
        "id": "YYU2S4XRj83U",
        "colab_type": "code",
        "colab": {
          "base_uri": "https://localhost:8080/",
          "height": 34
        },
        "outputId": "60d320f8-af0e-45d4-cab1-2adedd1249e2"
      },
      "source": [
        "!kubectl delete pod products-6fd4b78888-mqfwv\n"
      ],
      "execution_count": 103,
      "outputs": [
        {
          "output_type": "stream",
          "text": [
            "Error from server (NotFound): pods \"products-6fd4b78888-mqfwv\" not found\n"
          ],
          "name": "stdout"
        }
      ]
    },
    {
      "cell_type": "code",
      "metadata": {
        "id": "z1okg933bCbO",
        "colab_type": "code",
        "colab": {}
      },
      "source": [
        "!kubectl delete deployment products\n",
        "#!kubectl delete"
      ],
      "execution_count": null,
      "outputs": []
    },
    {
      "cell_type": "code",
      "metadata": {
        "id": "TQQKF5ZllTDn",
        "colab_type": "code",
        "colab": {}
      },
      "source": [
        "!kubectl create deployment products --image=gcr.io/${GOOGLE_CLOUD_PROJECT}/products:1.0.0"
      ],
      "execution_count": null,
      "outputs": []
    },
    {
      "cell_type": "code",
      "metadata": {
        "id": "Lb4aC3njmkfo",
        "colab_type": "code",
        "colab": {}
      },
      "source": [
        "!curl {PROD_SERVICE_IP}/api/products"
      ],
      "execution_count": null,
      "outputs": []
    },
    {
      "cell_type": "markdown",
      "metadata": {
        "id": "hfoZ7_7CnwhC",
        "colab_type": "text"
      },
      "source": [
        "## Internal Name space"
      ]
    },
    {
      "cell_type": "code",
      "metadata": {
        "id": "kcKZqaSR2nim",
        "colab_type": "code",
        "colab": {}
      },
      "source": [
        ""
      ],
      "execution_count": null,
      "outputs": []
    },
    {
      "cell_type": "markdown",
      "metadata": {
        "id": "4-Obhm2GCE8P",
        "colab_type": "text"
      },
      "source": [
        "# C : Cleanup Project"
      ]
    },
    {
      "cell_type": "markdown",
      "metadata": {
        "id": "QlM3-bbE4zY7",
        "colab_type": "text"
      },
      "source": [
        "###The code below will cause an error. It will prevent you from deleting the cluster unintentionally. <br>\n",
        "###Execute the cluster delete when you are done to clean up."
      ]
    },
    {
      "cell_type": "code",
      "metadata": {
        "id": "XSHKgvxw4yNF",
        "colab_type": "code",
        "colab": {}
      },
      "source": [
        "raise"
      ],
      "execution_count": null,
      "outputs": []
    },
    {
      "cell_type": "code",
      "metadata": {
        "id": "QZJ0wKLmJJIT",
        "colab_type": "code",
        "colab": {}
      },
      "source": [
        "!gcloud container clusters list"
      ],
      "execution_count": null,
      "outputs": []
    },
    {
      "cell_type": "code",
      "metadata": {
        "id": "LtrG__Ck-Y_x",
        "colab_type": "code",
        "colab": {}
      },
      "source": [
        "!gcloud container clusters delete fancy-cluster\n"
      ],
      "execution_count": null,
      "outputs": []
    }
  ]
}